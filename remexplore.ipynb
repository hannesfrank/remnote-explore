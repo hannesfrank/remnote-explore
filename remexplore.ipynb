{
 "metadata": {
  "language_info": {
   "codemirror_mode": {
    "name": "ipython",
    "version": 3
   },
   "file_extension": ".py",
   "mimetype": "text/x-python",
   "name": "python",
   "nbconvert_exporter": "python",
   "pygments_lexer": "ipython3",
   "version": 3
  },
  "orig_nbformat": 2,
  "kernelspec": {
   "name": "python_defaultSpec_1597305652741",
   "display_name": "Python 3.8.2 64-bit"
  }
 },
 "nbformat": 4,
 "nbformat_minor": 2,
 "cells": [
  {
   "cell_type": "markdown",
   "metadata": {},
   "source": [
    "# RemNote Explorer\n",
    "\n",
    "Exploration of the raw RemNote export. Extract your export into the `export` folder.\n",
    "There should be two files: `export/cards.json` (spaced repetition related) and `export/rem.json` (all your rems)."
   ]
  },
  {
   "cell_type": "code",
   "execution_count": 37,
   "metadata": {
    "tags": []
   },
   "outputs": [
    {
     "output_type": "stream",
     "name": "stdout",
     "text": "{'exportDate': '2020-08-13T20:47:56.498Z', 'exportVersion': 1, 'docs': [...]}\n{'exportDate': '2020-08-13T20:47:56.575Z', 'exportVersion': 1, 'docs': [...]}\n"
    }
   ],
   "source": [
    "import json\n",
    "from pprint import pprint, pp\n",
    "\n",
    "rem = json.load(open('export/rem.json'))\n",
    "cards = json.load(open('export/cards.json'))\n",
    "pp(rem, depth=1)\n",
    "pp(cards, depth=1)"
   ]
  },
  {
   "cell_type": "code",
   "execution_count": 38,
   "metadata": {
    "tags": []
   },
   "outputs": [
    {
     "output_type": "stream",
     "name": "stdout",
     "text": "Number of cards: 265\nNumber of rem:  740\n"
    }
   ],
   "source": [
    "print('Number of cards:', len(cards['docs']))\n",
    "base = rem['docs']\n",
    "print('Number of rem: ', len(base))"
   ]
  },
  {
   "cell_type": "markdown",
   "metadata": {},
   "source": [
    "These keys are used in the export"
   ]
  },
  {
   "cell_type": "code",
   "execution_count": 22,
   "metadata": {},
   "outputs": [
    {
     "output_type": "execute_result",
     "data": {
      "text/plain": "{'_id',\n 'article',\n 'autoImport',\n 'backSpacedRepetition',\n 'children',\n 'cp',\n 'createdAt',\n 'crt',\n 'docUpdated',\n 'dontSync',\n 'embeddedSearchId',\n 'enableBackSR',\n 'excludedTypeParents',\n 'folderOpen',\n 'forget',\n 'hasImplicitTag',\n 'history',\n 'isListItem',\n 'key',\n 'mc',\n 'noBullet',\n 'owner',\n 'p',\n 'parent',\n 'portalType',\n 'portalsIn',\n 'preMigrateChildren',\n 'preMigrateSubBlocks',\n 'preMigrationTypeChildren',\n 'rcre',\n 'rcrp',\n 'rcrs',\n 'rcrt',\n 'references',\n 'rsp',\n 's',\n 'searchAliases',\n 'searchResults',\n 'selectedInSearch',\n 'spacedRepetition',\n 'srcRemC',\n 'srcRemId',\n 'subBlocks',\n 'tcsp',\n 'timesMovedTo',\n 'type',\n 'typeChildren',\n 'typeParents',\n 'u',\n 'value',\n 'valueType'}"
     },
     "metadata": {},
     "execution_count": 22
    }
   ],
   "source": [
    "keys = set()\n",
    "for rem in base:\n",
    "    keys.update(rem.keys())\n",
    "keys"
   ]
  },
  {
   "cell_type": "markdown",
   "metadata": {},
   "source": [
    "## Top-level Rem"
   ]
  },
  {
   "cell_type": "code",
   "execution_count": 39,
   "metadata": {},
   "outputs": [
    {
     "output_type": "execute_result",
     "data": {
      "text/plain": "118"
     },
     "metadata": {},
     "execution_count": 39
    }
   ],
   "source": [
    "toplevel = [r for r in base if 'parent' not in r or not r['parent']]\n",
    "len(toplevel)"
   ]
  },
  {
   "cell_type": "code",
   "execution_count": 58,
   "metadata": {
    "tags": []
   },
   "outputs": [],
   "source": [
    "def rem_by_id(id, base):\n",
    "    # TODO: Speed up with index\n",
    "    for r in base:\n",
    "        if r['_id'] == id:\n",
    "            return r\n",
    "    raise FileNotFoundError(f'Rem with id {id} not found')\n",
    "\n",
    "def remtext(rem, base: list):\n",
    "    \"\"\"Print the rem title/name/text/key.\n",
    "\n",
    "    This is written in the `key` field of a rem which is a list\n",
    "    of words. There are some special cases:\n",
    "    \n",
    "    - Rem references are embedded as a dict with an `_id`.\n",
    "      Example: `{'_id': 'Muw33mm7WgmyyHPCY', 'i': 'q'}`\n",
    "    TODO: What is `'i': 'q'`?\n",
    "\n",
    "    - Example: `{'text': ' \\\\sum_{i=0}^n i ', 'i': 'm', 'x': True}`\n",
    "\n",
    "    TODO: Why are Words sometimes split on spaces like\n",
    "        ['Building', ' ', 'A', ' ', 'Second', ' ', 'Brain']\n",
    "    \"\"\"\n",
    "\n",
    "    # replace \n",
    "    rem_text = rem['key']\n",
    "\n",
    "    def is_reference(part):\n",
    "        return type(part) is dict and '_id' in part\n",
    "    def is_text(part):\n",
    "        return type(part) is dict and 'text' in part\n",
    "\n",
    "    def plain(part):\n",
    "        if is_reference(part):\n",
    "            ref_id = part['_id']\n",
    "            rem = rem_by_id(ref_id, base)\n",
    "            return remtext(rem, base)\n",
    "        elif is_text(part):\n",
    "            return f'$${part[\"text\"]}$$'\n",
    "        assert type(part) is str\n",
    "        return part\n",
    "\n",
    "    plain = [plain(part) for part in rem_text]\n",
    "    return ''.join(plain)\n",
    "\n",
    "    "
   ]
  },
  {
   "cell_type": "code",
   "execution_count": 64,
   "metadata": {
    "tags": []
   },
   "outputs": [
    {
     "output_type": "stream",
     "name": "stdout",
     "text": "Experiment                               ['Experiment']\nValence Electron                         ['Valence Electron']\nChemical Bond                            ['Chemical Bond']\nNoun                                     ['Noun']\nStatic Array                             ['Static Array']\nSelection Sort                           ['Selection Sort']\nComputer                                 ['Computer']\nKeyboard Shortcut                        ['Keyboard Shortcut']\nLearning to Learn                        ['Learning to Learn']\nIn Place Sorting Algorithm               ['In Place ', {'_id': 'Muw33mm7WgmyyHPCY', 'i': 'q'}]\n"
    }
   ],
   "source": [
    "for r in toplevel[:10]:\n",
    "    print(f'{remtext(r, base):40.40}', r['key'])"
   ]
  },
  {
   "cell_type": "code",
   "execution_count": null,
   "metadata": {},
   "outputs": [],
   "source": []
  }
 ]
}